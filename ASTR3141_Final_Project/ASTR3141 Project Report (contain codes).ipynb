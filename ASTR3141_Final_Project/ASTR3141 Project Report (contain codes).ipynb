{
 "cells": [
  {
   "cell_type": "markdown",
   "metadata": {},
   "source": [
    "# ASTR3141 Project Report"
   ]
  },
  {
   "cell_type": "markdown",
   "metadata": {},
   "source": [
    "Professor Younes kindly provides the raw data collects from NICER of a neutron star, called SGR 0501+4516. \n",
    "This project is focus on finding the five outliers of the \"Time\" array in the data set. I have also tried other ways to find the outliers for \"Time\" data.  From my perspective, the best approach to find the outliers easily is to use the z-score method. "
   ]
  },
  {
   "cell_type": "markdown",
   "metadata": {},
   "source": [
    "First of all, we have to import differnent libraries for further use. \n",
    "csv is for us to convert the original raw data file (.evt) to the standard excel file (.csv)\n",
    "matplotlib.pyplot is for us to plot the scatter graph and any other graphs we need.\n",
    "numpy is a library supports for large, multi-dimensional arrays and matrices, along with a large collection of high-level mathematical functions to operate on these arrays.\n",
    "sklearn, pandas and seasborn are used to find outliers, using methods like DBSCAN or kde. "
   ]
  },
  {
   "cell_type": "code",
   "execution_count": 1,
   "metadata": {},
   "outputs": [],
   "source": [
    "import csv\n",
    "import matplotlib.pyplot as plt\n",
    "import numpy as np\n",
    "import sklearn\n",
    "import pandas as pd\n",
    "from sklearn.cluster import DBSCAN\n",
    "from scipy.stats import kde\n",
    "import seaborn as sns"
   ]
  },
  {
   "cell_type": "markdown",
   "metadata": {},
   "source": [
    "Here, we have to define several functions we need to analysis further. When we try to find the break points of the \"Time\" data, we use 3 different methods, z-score method, modified z-score method and the IQR method. And the z-score method is the one that is closest to our observation to the data scatter plot. "
   ]
  },
  {
   "cell_type": "code",
   "execution_count": 2,
   "metadata": {},
   "outputs": [],
   "source": [
    "# Subtraction between two arrays\n",
    "def self_sub(array1):\n",
    "    array2 = array1[:]\n",
    "    last_value = array1[len(array1) - 1]\n",
    "    array2.pop(0)\n",
    "    array2.append(last_value)\n",
    "\n",
    "    nparray1 = np.asarray(array1, dtype=np.float64)\n",
    "    nparray2 = np.asarray(array2, dtype=np.float64)\n",
    "\n",
    "    out_num = np.subtract(nparray1, nparray2)\n",
    "    return out_num"
   ]
  },
  {
   "cell_type": "code",
   "execution_count": 3,
   "metadata": {},
   "outputs": [],
   "source": [
    "# Z-score method to find outliers\n",
    "def outliers_z_score(ys):\n",
    "    threshold = 3\n",
    "\n",
    "    mean_y = np.mean(ys)\n",
    "    print(\"The mean value of is\", mean_y)\n",
    "    stdev_y = np.std(ys)\n",
    "    z_scores = [(y - mean_y) / stdev_y for y in ys]\n",
    "    return np.where(np.abs(z_scores) > threshold)"
   ]
  },
  {
   "cell_type": "code",
   "execution_count": 4,
   "metadata": {},
   "outputs": [],
   "source": [
    "# Modified Z-score method to find outliers\n",
    "def outliers_modified_z_score(ys):\n",
    "    threshold = 3.5\n",
    "\n",
    "    median_y = np.median(ys)\n",
    "    print(\"The median value of is\", median_y)\n",
    "    median_absolute_deviation_y = np.median([np.abs(y - median_y) for y in ys])\n",
    "    modified_z_scores = [0.6745 * (y - median_y) / median_absolute_deviation_y\n",
    "                             for y in ys]\n",
    "    return np.where(np.abs(modified_z_scores) > threshold)"
   ]
  },
  {
   "cell_type": "code",
   "execution_count": 5,
   "metadata": {},
   "outputs": [],
   "source": [
    "# IQR method\n",
    "def outliers_iqr(ys):\n",
    "    quartile_1, quartile_3 = np.percentile(ys, [25, 75])\n",
    "    iqr = quartile_3 - quartile_1\n",
    "    lower_bound = quartile_1 - (iqr * 1.5)\n",
    "    upper_bound = quartile_3 + (iqr * 1.5)\n",
    "    return np.where((ys > upper_bound) | (ys < lower_bound))"
   ]
  },
  {
   "cell_type": "markdown",
   "metadata": {},
   "source": [
    "First, we need to convert the original raw data file (.evt) to the standard excel file (.csv). \n",
    "To do this conversion, we need to first use the fitsViewer application to open the original data file (.evt) and display the data set. Then choose to export the original data to text file, and then we change the file suffix name \".txt\" to \".csv\". Rename the csv file as \"data1.csv\" under the folder of the desktop. During this process, We have also successfully preserve the accuracy of the original data in the csv file."
   ]
  },
  {
   "cell_type": "code",
   "execution_count": 6,
   "metadata": {},
   "outputs": [],
   "source": [
    "# First, we read the data in the converted excel file (.csv).\n",
    "data = pd.read_csv(\"C:/Users/GE63VR/Desktop/data1.csv\")\n",
    "with open(\"C:/Users/GE63VR/Desktop/data1.csv\", \"rt\") as csvFile:\n",
    "    marksReader = csv.reader(csvFile)\n",
    "\n",
    "# Here we define two lists, with x and y. \n",
    "# x represents the line number, y represents the time corresponds to the line it is at. \n",
    "    x = []\n",
    "    y = []\n",
    "    for row in marksReader:\n",
    "        x.append(row[0])\n",
    "        y.append(row[1])"
   ]
  },
  {
   "cell_type": "markdown",
   "metadata": {},
   "source": [
    "Before we move to the data analysis part, we have to examine the raw data by plotting it using matplotlib first. "
   ]
  },
  {
   "cell_type": "code",
   "execution_count": 7,
   "metadata": {},
   "outputs": [
    {
     "name": "stdout",
     "output_type": "stream",
     "text": [
      "8\n"
     ]
    },
    {
     "data": {
      "image/png": "[encoded data removed]",
      "text/plain": [
       "<Figure size 432x288 with 1 Axes>"
      ]
     },
     "metadata": {
      "needs_background": "light"
     },
     "output_type": "display_data"
    }
   ],
   "source": [
    "np_x_data = np.asarray(x, dtype=np.int32)\n",
    "np_raw_data = np.asarray(y, dtype=np.float64)\n",
    "\n",
    "x, data = np_x_data, np_raw_data\n",
    "data_new = np.reshape(data, (-1,1))\n",
    "\n",
    "outlier_detection = DBSCAN(min_samples = 100, eps = 22.67)\n",
    "clusters = outlier_detection.fit_predict(data_new)\n",
    "list_clusters = list(clusters).count(-1)\n",
    "print(list_clusters)\n",
    "\n",
    "plt.plot(x, data)\n",
    "plt.show()"
   ]
  },
  {
   "cell_type": "markdown",
   "metadata": {},
   "source": [
    "Now we have discovered the pattern of the data \"Time\", then our goal has changed to find out the outliers so to identify the boundaries of the data \"Time\". Here we use the subtration of numpy arrays to get a new array called \"out\". "
   ]
  },
  {
   "cell_type": "code",
   "execution_count": 8,
   "metadata": {},
   "outputs": [],
   "source": [
    "# Now we convert the list to numpy arrays. \n",
    "# But instead of converting the y to npy, we use the subtraction of two arrays, get the new array named \"out\".\n",
    "npy = abs(self_sub(y))\n",
    "npx = np.asarray(x, dtype=np.float64)\n",
    "\n",
    "max_npy = np.amax(npy)\n",
    "min_npy = np.amin(npy)\n",
    "diff_npy = max_npy - min_npy\n",
    "out = np.divide(npy, diff_npy)"
   ]
  },
  {
   "cell_type": "code",
   "execution_count": 9,
   "metadata": {},
   "outputs": [],
   "source": [
    "# scipy db scan\n",
    "# https://blog.dominodatalab.com/topology-and-density-based-clustering/\n",
    "out = np.reshape(out, (-1,1))\n",
    "dbsc = DBSCAN(eps=.5, min_samples=15).fit(out)\n",
    "labels = dbsc.labels_\n",
    "core_samples = np.zeros_like(labels, dtype=bool)\n",
    "core_samples[dbsc.core_sample_indices_] = True"
   ]
  },
  {
   "cell_type": "code",
   "execution_count": 10,
   "metadata": {},
   "outputs": [
    {
     "data": {
      "image/png": "[encoded data removed]",
      "text/plain": [
       "<Figure size 432x288 with 1 Axes>"
      ]
     },
     "metadata": {
      "needs_background": "light"
     },
     "output_type": "display_data"
    }
   ],
   "source": [
    "# plot re-plot\n",
    "plt.plot(out)\n",
    "plt.show()"
   ]
  },
  {
   "cell_type": "markdown",
   "metadata": {},
   "source": [
    "Here we want to know more about how the data is distributed, by calculating the average, variance and standard deviation of the \"Time\" data. Also we know we have five break points in the original \"Time\" data. "
   ]
  },
  {
   "cell_type": "code",
   "execution_count": 11,
   "metadata": {},
   "outputs": [
    {
     "name": "stdout",
     "output_type": "stream",
     "text": [
      "The average of time values is：4.153928\n",
      "The variance of time values is：35521.626340\n",
      "The standard deviation of time values is:188.480626\n"
     ]
    }
   ],
   "source": [
    "# average\n",
    "arr_mean = np.mean(npy)\n",
    "# variance\n",
    "arr_var = np.var(npy)\n",
    "# standard deviation\n",
    "arr_std = np.std(npy, ddof=1)\n",
    "print(\"The average of time values is：%f\" % arr_mean)\n",
    "print(\"The variance of time values is：%f\" % arr_var)\n",
    "print(\"The standard deviation of time values is:%f\" % arr_std)"
   ]
  },
  {
   "cell_type": "markdown",
   "metadata": {},
   "source": [
    "We know from the calculated average, variance and standard deviation that the data should be in a skew-right distribution.\n",
    "From here, we should use methods to find the outliers."
   ]
  },
  {
   "cell_type": "code",
   "execution_count": 12,
   "metadata": {},
   "outputs": [
    {
     "name": "stdout",
     "output_type": "stream",
     "text": [
      "The mean value of is 0.00038013835581474515\n",
      "(array([ 764, 3900, 4544, 6138, 7726], dtype=int64), array([0, 0, 0, 0, 0], dtype=int64))\n",
      "The outlier is at index 764\n",
      " and the 'time' array data is 10214.00290544331\n",
      "The outlier is at index 3900\n",
      " and the 'time' array data is 10927.40968722105\n",
      "The outlier is at index 4544\n",
      " and the 'time' array data is 10564.517845407128\n",
      "The outlier is at index 6138\n",
      " and the 'time' array data is 5005.228042408824\n",
      "The outlier is at index 7726\n",
      " and the 'time' array data is 4457.384169176221\n"
     ]
    }
   ],
   "source": [
    "# Using z-score method to find the break points. \n",
    "# Print the z-score method result.\n",
    "print(outliers_z_score(out))\n",
    "\n",
    "outlier_index = [764, 3900, 4544, 6138, 7726]\n",
    "for i in outlier_index:\n",
    "    print(\"The outlier is at index\", i) \n",
    "    print(\" and the 'time' array data is\", npy[i])"
   ]
  },
  {
   "cell_type": "markdown",
   "metadata": {},
   "source": [
    "We have successfully find the five outlierss in the original data by using the z-score method. \n",
    "Below are other two methods we use but they don't meet with our expectation. "
   ]
  },
  {
   "cell_type": "code",
   "execution_count": 13,
   "metadata": {},
   "outputs": [],
   "source": [
    "# Using modified z-score method to find the five outliers\n",
    "# print(outliers_modified_z_score(out))"
   ]
  },
  {
   "cell_type": "code",
   "execution_count": 14,
   "metadata": {},
   "outputs": [],
   "source": [
    "# # Using IQR method to find the five outliers\n",
    "# print(outliers_iqr(npy))"
   ]
  },
  {
   "cell_type": "markdown",
   "metadata": {},
   "source": [
    "Below, we have also tried to use boxplot to find outliers, and other methods. But the results differ differently. So we will not discuss any further. Here is the link for reference: https://towardsdatascience.com/5-ways-to-detect-outliers-that-every-data-scientist-should-know-python-code-70a54335a623"
   ]
  },
  {
   "cell_type": "code",
   "execution_count": 15,
   "metadata": {},
   "outputs": [
    {
     "name": "stdout",
     "output_type": "stream",
     "text": [
      "end\n"
     ]
    }
   ],
   "source": [
    "# sns.boxplot(data=out)\n",
    "\n",
    "print(\"end\")"
   ]
  }
 ],
 "metadata": {
  "kernelspec": {
   "display_name": "Python 3",
   "language": "python",
   "name": "python3"
  },
  "language_info": {
   "codemirror_mode": {
    "name": "ipython",
    "version": 3
   },
   "file_extension": ".py",
   "mimetype": "text/x-python",
   "name": "python",
   "nbconvert_exporter": "python",
   "pygments_lexer": "ipython3",
   "version": "3.7.0"
  }
 },
 "nbformat": 4,
 "nbformat_minor": 2
}
